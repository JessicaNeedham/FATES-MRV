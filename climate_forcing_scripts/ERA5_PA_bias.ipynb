{
 "cells": [
  {
   "cell_type": "markdown",
   "id": "890d1911-ee62-4d3d-bcce-7d02421fd246",
   "metadata": {},
   "source": [
    "## Bias correction ERA5\n",
    "\n",
    "Based on script from Shijie Shi here: https://github.com/goose888/FATES_MRV/blob/main/Generate_climate_forcings.ipynb"
   ]
  },
  {
   "cell_type": "code",
   "execution_count": 1,
   "id": "8fc84e81-6b51-4ad4-a641-6fad5ad235a9",
   "metadata": {
    "tags": []
   },
   "outputs": [
    {
     "name": "stderr",
     "output_type": "stream",
     "text": [
      "/global/homes/j/jneedham/.conda/envs/myenv/lib/python3.9/site-packages/scipy/__init__.py:146: UserWarning: A NumPy version >=1.16.5 and <1.23.0 is required for this version of SciPy (detected version 1.24.3\n",
      "  warnings.warn(f\"A NumPy version >={np_minversion} and <{np_maxversion}\"\n"
     ]
    }
   ],
   "source": [
    "import netCDF4 as nc4\n",
    "import numpy as np\n",
    "from matplotlib import pyplot as plt\n",
    "import copy\n",
    "import pandas as pd\n",
    "import time\n",
    "import xarray as xr\n",
    "import pandas as pd\n",
    "\n",
    "import matplotlib.pyplot as plt\n",
    "from matplotlib.pyplot import figure\n",
    "from matplotlib import cm\n",
    "import matplotlib.colors as mcolors\n",
    "from matplotlib.colors import Normalize\n",
    "from matplotlib.colors import BoundaryNorm\n"
   ]
  },
  {
   "cell_type": "markdown",
   "id": "283a206c-23a1-4c4b-b411-4a30d34e8259",
   "metadata": {},
   "source": [
    "### Read in the climate data and extract the PA grid cell "
   ]
  },
  {
   "cell_type": "code",
   "execution_count": 2,
   "id": "eaa249cf-cb15-45c5-8fa6-128186db823c",
   "metadata": {
    "tags": []
   },
   "outputs": [],
   "source": [
    "# Parameters for calculating vapor pressure\n",
    "a1=6.107799961\n",
    "a2=4.436518521e-1\n",
    "a3=1.428945805e-2\n",
    "a4=2.650648471e-4\n",
    "a5=3.031240396e-6\n",
    "a6=2.034080948e-8\n",
    "a7=6.136820929e-11"
   ]
  },
  {
   "cell_type": "code",
   "execution_count": 3,
   "id": "f4511e70-7a35-40f3-8bdc-3a0d8a256273",
   "metadata": {
    "tags": []
   },
   "outputs": [
    {
     "name": "stdout",
     "output_type": "stream",
     "text": [
      "283.7809725\n"
     ]
    }
   ],
   "source": [
    "lat = 40.9386032\n",
    "lon = -76.2190275\n",
    "\n",
    "if lon < 0 : \n",
    "     lon = 360 + lon\n",
    "     print(lon)"
   ]
  },
  {
   "cell_type": "code",
   "execution_count": 4,
   "id": "6115ff7e-b76f-4320-871d-227b2011145d",
   "metadata": {
    "tags": []
   },
   "outputs": [
    {
     "name": "stdout",
     "output_type": "stream",
     "text": [
      "[1, 2, 3, 4, 5, 6, 7, 8, 9, 10, 11, 12]\n",
      "[1984, 1985, 1986, 1987, 1988, 1989, 1990, 1991, 1992, 1993, 1994, 1995, 1996, 1997, 1998, 1999, 2000, 2001, 2002, 2003, 2004, 2005, 2006, 2007, 2008, 2009, 2010, 2011, 2012, 2013, 2014, 2015, 2016, 2017, 2018, 2019, 2020, 2021, 2022]\n"
     ]
    }
   ],
   "source": [
    "yrs = np.arange(1984, 2023, 1).tolist()\n",
    "months = np.arange(1,13,1).tolist()\n",
    "\n",
    "print(months)\n",
    "print(yrs)"
   ]
  },
  {
   "cell_type": "code",
   "execution_count": null,
   "id": "00f74892-b538-4b1f-9509-e19bbc2fd90f",
   "metadata": {},
   "outputs": [
    {
     "name": "stdout",
     "output_type": "stream",
     "text": [
      "1984\n"
     ]
    }
   ],
   "source": [
    "for yr in yrs  :\n",
    "    print(yr)\n",
    "    for  mon in months : \n",
    "        \n",
    "        # Tbot\n",
    "        tbot_full = '/global/cfs/cdirs/e3sm/inputdata/atm/datm7/atm_forcing.datm7.ERA.0.25d.v5.c180614/tbot/elmforc.ERA5.c2018.0.25d.t2m.{}-{:02d}.nc'.format(yr, mon)\n",
    "        tbot_full = xr.open_dataset(tbot_full, decode_times=False)\n",
    "\n",
    "        lon_mids = tbot_full.LONGXY[0,0:1440] \n",
    "        lat_mids = tbot_full.LATIXY[0:721,0]\n",
    "\n",
    "        abslat = np.abs(lat_mids - lat)\n",
    "        abslon = np.abs(lon_mids - lon)\n",
    "        c = np.maximum(abslon, abslat)\n",
    "         \n",
    "        ([xloc],[yloc]) = np.where(c == np.min(c))\n",
    "        \n",
    "        lat_new = lat_mids[yloc]\n",
    "        lon_new = lon_mids[xloc]\n",
    "        \n",
    "        tbot = tbot_full.isel(lon=[xloc],lat=[yloc])\n",
    "        tbot = tbot.rename({'t2m':'TBOT'})\n",
    "        \n",
    "        # Precipitation mm/s\n",
    "        prec_full = '/global/cfs/cdirs/e3sm/inputdata/atm/datm7/atm_forcing.datm7.ERA.0.25d.v5.c180614/prec/elmforc.ERA5.c2018.0.25d.mcpr.{}-{:02d}.nc'.format(yr, mon)\n",
    "        prec_full = xr.open_dataset(prec_full, decode_times=False)\n",
    "        prec = prec_full.isel(lon=[xloc],lat=[yloc])\n",
    "        \n",
    "        prel_full = '/global/cfs/cdirs/e3sm/inputdata/atm/datm7/atm_forcing.datm7.ERA.0.25d.v5.c180614/prec/elmforc.ERA5.c2018.0.25d.mlspr.{}-{:02d}.nc'.format(yr, mon)\n",
    "        prel_full = xr.open_dataset(prel_full, decode_times=False)\n",
    "        prel = prel_full.isel(lon=[xloc],lat=[yloc])\n",
    "        \n",
    "        prec['mcpr'] = prec.mcpr + prel.mlspr\n",
    "        prec = prec.rename({'mcpr':'PRECTmms'})\n",
    "        \n",
    "        # Wind speed 10 m wind speed, m s-1\n",
    "        w10_full = '/global/cfs/cdirs/e3sm/inputdata/atm/datm7/atm_forcing.datm7.ERA.0.25d.v5.c180614/wind/elmforc.ERA5.c2018.0.25d.w10.{}-{:02d}.nc'.format(yr, mon)\n",
    "        w10_full = xr.open_dataset(w10_full, decode_times=False)\n",
    "        w10 = w10_full.isel(lon=[xloc],lat=[yloc])\n",
    "        w10 = w10.rename({'w10':'WIND'})\n",
    "        \n",
    "        # Radiation W m-2\n",
    "        rad_full = '/global/cfs/cdirs/e3sm/inputdata/atm/datm7/atm_forcing.datm7.ERA.0.25d.v5.c180614/swdn/elmforc.ERA5.c2018.0.25d.msdwswrf.{}-{:02d}.nc'.format(yr, mon)\n",
    "        rad_full = xr.open_dataset(rad_full, decode_times=False)\n",
    "        rad = rad_full.isel(lon=[xloc],lat=[yloc])\n",
    "        rad = rad.rename({'msdwswrf':'FSDS'})\n",
    "        \n",
    "        # Longwave radiation W m-2\n",
    "        lwrad_full = '/global/cfs/cdirs/e3sm/inputdata/atm/datm7/atm_forcing.datm7.ERA.0.25d.v5.c180614/lwdn/elmforc.ERA5.c2018.0.25d.msdwlwrf.{}-{:02d}.nc'.format(yr, mon)\n",
    "        lwrad_full = xr.open_dataset(lwrad_full, decode_times=False)\n",
    "        lwrad = lwrad_full.isel(lon=[xloc],lat=[yloc])\n",
    "        lwrad = lwrad.rename({'msdwlwrf':'FLDS'})\n",
    "        \n",
    "        # Dew point Temp, K\n",
    "        tdew_full = '/global/cfs/cdirs/e3sm/inputdata/atm/datm7/atm_forcing.datm7.ERA.0.25d.v5.c180614/tdew/elmforc.ERA5.c2018.0.25d.d2m.{}-{:02d}.nc'.format(yr, mon)\n",
    "        tdew_full = xr.open_dataset(tdew_full, decode_times=False)\n",
    "        tdew = tdew_full.isel(lon=[xloc],lat=[yloc])\n",
    "        \n",
    "        # Surface pressure, Pa\n",
    "        sp_full = '/global/cfs/cdirs/e3sm/inputdata/atm/datm7/atm_forcing.datm7.ERA.0.25d.v5.c180614/pbot/elmforc.ERA5.c2018.0.25d.sp.{}-{:02d}.nc'.format(yr, mon)\n",
    "        sp_full = xr.open_dataset(sp_full, decode_times=False)\n",
    "        sp = sp_full.isel(lon=[xloc],lat=[yloc])\n",
    "        sp = sp.rename({'sp':'PSRF'})\n",
    "        \n",
    "        # Transfer dew point and temperature to relative humidity\n",
    "        dew = tdew.d2m - 273.16\n",
    "        tair = tbot.TBOT - 273.16\n",
    "        ea = a1 +dew*(a2+dew*(a3+dew*(a4+dew*(a5+dew*(a6+dew*a7)))))\n",
    "        es = a1 +tair*(a2+tair*(a3+tair*(a4+tair*(a5+tair*(a6+tair*a7)))))\n",
    "        rh_era = ea/(es+1e-10)\n",
    "        rh_era = rh_era.to_dataset(name='RH')\n",
    "        \n",
    "        combined = xr.merge([tbot, prec, w10, rad, lwrad, sp, rh_era])\n",
    "        \n",
    "        combined.to_netcdf('/pscratch/sd/j/jneedham/fates-mrv-runs/climate-forcing/PA/ERA5/non_corr/{}-{:02d}.nc'.format(yr, mon))"
   ]
  },
  {
   "cell_type": "markdown",
   "id": "e2627658-3a1f-4f36-99ae-12f0d1d0a8a8",
   "metadata": {},
   "source": [
    "### Read in terraclimate dataset"
   ]
  },
  {
   "cell_type": "code",
   "execution_count": null,
   "id": "ba5eb10b-475e-4799-8645-1b7fa5764b54",
   "metadata": {},
   "outputs": [],
   "source": [
    "# Read in terraclimate data - single point data downloaded from : \n",
    "# https://climate.northwestknowledge.net/NWTOOLBOX/formattedDownloads.php\n",
    "\n",
    "terra = pd.read_csv('/pscratch/sd/j/jneedham/fates-mrv-runs/climate-forcing/Terraclimate/terraclimate_40.9386032N_76.2190275W_formatted.csv')\n",
    "print(terra.head(3))\n",
    "\n",
    "yrs = np.arange(0,len(terra),1) / 12\n",
    "\n",
    "# quick plots as a sanity check for weird values - whole time series\n",
    "fig1, ((f1ax0, f1ax1),(f1ax2, f1ax3)) = plt.subplots(nrows=2,ncols=2, figsize=(12,6), constrained_layout=True)\n",
    "\n",
    "f1ax0.plot(yrs, terra['tmax(degC)'])    \n",
    "f1ax1.plot(yrs, terra['tmin(degC)'])\n",
    "f1ax2.plot(yrs, terra['ppt(mm)'])\n",
    "f1ax3.plot(yrs, terra['ws(mps)'])\n",
    "\n",
    "f1ax0.set_title(r'Tmax (degC)', fontsize = 12)\n",
    "f1ax0.set_ylabel(r'Tmax (degC)', fontsize = 12)\n",
    "f1ax0.set_xlabel(r'Time (years)', fontsize = 12)    \n",
    "f1ax1.set_title(r'Tmin (degC)', fontsize = 12)\n",
    "f1ax1.set_ylabel(r'Tmin (degC)', fontsize = 12)\n",
    "f1ax1.set_xlabel(r'Time (years)', fontsize = 12)    \n",
    "f1ax2.set_title(r'ppt (mm)', fontsize = 12)\n",
    "f1ax2.set_ylabel(r'ppt (mm)', fontsize = 12)\n",
    "f1ax2.set_xlabel(r'Time (years)', fontsize = 12)    \n",
    "f1ax3.set_title(r'ws (mps)', fontsize = 12)\n",
    "f1ax3.set_ylabel(r'ws (mps)', fontsize = 12)\n",
    "f1ax3.set_xlabel(r'Time (years)', fontsize = 12)    "
   ]
  },
  {
   "cell_type": "code",
   "execution_count": null,
   "id": "cfbc730b-dc0b-40eb-b9e1-e47a901a1235",
   "metadata": {
    "tags": []
   },
   "outputs": [],
   "source": [
    "tmin_seasonal = terra.groupby('Month')['tmin(degC)'].mean()\n",
    "tmax_seasonal = terra.groupby('Month')['tmax(degC)'].mean()\n",
    "ppt_seasonal = terra.groupby('Month')['ppt(mm)'].mean()\n",
    "ws_seasonal = terra.groupby('Month')['ws(mps)'].mean()\n",
    "\n",
    "mons = np.arange(1,13,1)\n",
    "\n",
    "# quick plots as a sanity check  - seasonal cycle\n",
    "fig1, ((f1ax0, f1ax1),(f1ax2, f1ax3)) = plt.subplots(nrows=2,ncols=2, figsize=(12,6), constrained_layout=True)\n",
    "\n",
    "\n",
    "f1ax0.plot(mons, tmax_seasonal)    \n",
    "f1ax1.plot(mons, tmin_seasonal)\n",
    "f1ax2.plot(mons, ppt_seasonal)\n",
    "f1ax3.plot(mons, ws_seasonal)\n",
    "\n",
    "f1ax0.set_title(r'Tmax (degC)', fontsize = 12)\n",
    "f1ax0.set_ylabel(r'Tmax (degC)', fontsize = 12)\n",
    "f1ax0.set_xlabel(r'Time (months)', fontsize = 12)    \n",
    "f1ax1.set_title(r'Tmin (degC)', fontsize = 12)\n",
    "f1ax1.set_ylabel(r'Tmin (degC)', fontsize = 12)\n",
    "f1ax1.set_xlabel(r'Time (months)', fontsize = 12)    \n",
    "f1ax2.set_title(r'ppt (mm)', fontsize = 12)\n",
    "f1ax2.set_ylabel(r'ppt (mm)', fontsize = 12)\n",
    "f1ax2.set_xlabel(r'Time (months)', fontsize = 12)    \n",
    "f1ax3.set_title(r'ws (mps)', fontsize = 12)\n",
    "f1ax3.set_ylabel(r'ws (mps)', fontsize = 12)\n",
    "f1ax3.set_xlabel(r'Time (months)', fontsize = 12) \n",
    "   "
   ]
  },
  {
   "cell_type": "code",
   "execution_count": null,
   "id": "1f5398cd-2582-49ab-870c-959b9a4b2c36",
   "metadata": {
    "tags": []
   },
   "outputs": [],
   "source": [
    "# For each month we get the maximum and minimum temperature and calculate the mean of that month.\n",
    "# Use the difference between TerraClimate and ERA5 to correct the temperature\n",
    "# Same method is applied to correct wind speed.\n",
    "# Before correcting temperature bias, dew point temperature must be transferred into either specific or relative humidity.\n",
    "# Currently we just use linear scaling (Chen et al., 2022)\n",
    "\n",
    "yrs = np.arange(1979, 1985, 1).tolist()\n",
    "months = np.arange(1,13,1).tolist()\n",
    "\n",
    "jday_beg = [0, 31, 59, 90, 120, 151, 181, 212, 243, 273, 304, 334]\n",
    "jday_end = [31, 59, 90, 120, 151, 181, 212, 243, 273, 304, 334, 365]\n",
    "\n",
    "\n",
    "# tmin monthly mean - ERA5\n",
    "for yr in yrs  :\n",
    "    print(yr)\n",
    "    for  mon in months : \n",
    "        \n",
    "        era = '/pscratch/sd/j/jneedham/fates-mrv-runs/climate-forcing/PA/ERA5/non_corr/{}-{:02d}.nc'.format(yr, mon)\n",
    "        era = xr.open_dataset(era)\n",
    "        \n",
    "        # get the max and min over each 24 hour period - then take the mean\n",
    "        tbot_max = era.TBOT.resample(time='1D').max().mean().values\n",
    "        tbot_min = era.TBOT.resample(time='1D').min().mean().values\n",
    "        \n",
    "        # correct by the mean tmax and tmin from Terra climate\n",
    "        terra_tmax = terra[(terra['Year'] == yr) & (terra['Month'] == mon)]['tmax(degC)'].values\n",
    "        terra_tmin = terra[(terra['Year'] == yr) & (terra['Month'] == mon)]['tmin(degC)'].values\n",
    "        \n",
    "        corr_tbot = (terra_tmax+273.16 - tbot_max + terra_tmin+273.16 - tbot_min) / 2.0\n",
    "        \n",
    "        era['TBOT'] = era.TBOT + corr_tbot\n",
    "        \n",
    "        # for wind take the mean over the month\n",
    "        wind_mean = era.WIND.mean().values\n",
    "        terra_wind = terra[(terra['Year'] == yr) & (terra['Month'] == mon)]['ws(mps)'].values\n",
    "        corr_wind = terra_wind - wind_mean\n",
    "        era['WIND'] = era.WIND + corr_wind\n",
    "        \n",
    "        # use daymet actual vapour pressure to adjust RH\n",
    "        rh = era.RH\n",
    "        \n",
    "        tair = era['TBOT'] - 273.16\n",
    "        es = a1 +tair*(a2+tair*(a3+tair*(a4+tair*(a5+tair*(a6+tair*a7)))))\n",
    "        ea = np.squeeze(es * rh)\n",
    "        ea_daily = np.squeeze(ea.resample(time='1D').mean().values) \n",
    "        \n",
    "        if(yr>=1980):\n",
    "            fp = '/pscratch/sd/j/jneedham/fates-mrv-runs/climate-forcing/DayMet/11752_lat_40.9386032_lon_-76.2190275_2024-09-26_193434_formatted.csv'\n",
    "            df_daymet = pd.read_csv(fp)\n",
    "            df_daymet_yr = df_daymet[(df_daymet['year'] == yr)]\n",
    "            df_daymet_mon = df_daymet_yr[jday_beg[mon-1]:jday_end[mon-1]]\n",
    "            ea_daymet = np.squeeze(df_daymet_mon['vp (Pa)'].values)\n",
    "              \n",
    "            corr_ea = (ea_daymet * 0.01) - ea_daily\n",
    "            corr_ea_hrly = np.repeat(corr_ea, 24)\n",
    "            ea = ea + corr_ea_hrly\n",
    "            rh = ea / es * 100\n",
    "            era['RH'] = rh\n",
    "             \n",
    "            \n",
    "        era.to_netcdf('/pscratch/sd/j/jneedham/fates-mrv-runs/climate-forcing/PA/ERA5/corr/{}-{:02d}.nc'.format(yr, mon))"
   ]
  },
  {
   "cell_type": "markdown",
   "id": "d2a72f2c-2f8b-4ce8-88e3-6d1e5911d44f",
   "metadata": {},
   "source": [
    "### Plots to validate "
   ]
  },
  {
   "cell_type": "code",
   "execution_count": null,
   "id": "5fe56c18-6274-40a5-9b5c-6fe8d251cfd7",
   "metadata": {
    "tags": []
   },
   "outputs": [],
   "source": [
    "# Read in data and make plot to validate\n",
    "# Obtain TerraClimate data\n",
    "yrbeg = 1979\n",
    "yrend = 1985\n",
    "nlen = 12 * (yrend - yrbeg)\n",
    "\n",
    "tmax_era = np.zeros((nlen))\n",
    "tmin_era = np.zeros((nlen))\n",
    "wmean_era = np.zeros((nlen))\n",
    "\n",
    "for i in np.arange(yrbeg,yrend):\n",
    "    for j in np.arange(1,13):\n",
    "        \n",
    "        era = '/pscratch/sd/j/jneedham/fates-mrv-runs/climate-forcing/PA/ERA5/corr/{}-{:02d}.nc'.format(i, j)\n",
    "        era = xr.open_dataset(era)\n",
    "        \n",
    "        tbot_era = era['TBOT']\n",
    "        wind_era = era['WIND']\n",
    "        rh_era = era['RH']\n",
    "        \n",
    "        pbeg = (i-yrbeg)*12+j-1\n",
    "        tmax_era[pbeg] = tbot_era.resample(time='1D').max().mean().values\n",
    "        tmin_era[pbeg] = tbot_era.resample(time='1D').min().mean().values\n",
    "        wmean_era[pbeg] = wind_era.mean().values\n",
    "        \n",
    "       # tair = tbot_era - 273.16\n",
    "       # es_era = a1 + tair * (a2 + tair * (a3 + tair * (a4 + tair * (a5 + tair * (a6 + tair * a7)))))\n",
    "       # ea_era[pbeg] = np.nanmean(rh_era * es_era)\n"
   ]
  },
  {
   "cell_type": "code",
   "execution_count": null,
   "id": "116f3ddf-4edf-480f-902e-e14a4aa10a71",
   "metadata": {
    "tags": []
   },
   "outputs": [],
   "source": [
    "terra_sub = terra[0:12*6]\n",
    "terra_sub.head(3)"
   ]
  },
  {
   "cell_type": "code",
   "execution_count": null,
   "id": "d5e360a8-45fe-444e-aa86-3b2ecd9e410d",
   "metadata": {},
   "outputs": [],
   "source": [
    "# Comparison Tmax \n",
    "yr_axis = np.arange(1979, 1985, 1.0/12.0)\n",
    "plot_len = len(yr_axis)\n",
    "fig = plt.figure(figsize=(5,5), dpi=100)\n",
    "plt.plot(yr_axis, terra_sub['tmax(degC)'], 'b-')\n",
    "plt.plot(yr_axis, tmax_era-273.16, 'r-')\n",
    "plt.legend(['TerraClimate', 'ERA5_bias_corrected'], fontsize = 14)\n",
    "plt.ylim([-10, 30])\n",
    "plt.ylabel('T max (deg c)')"
   ]
  },
  {
   "cell_type": "code",
   "execution_count": null,
   "id": "02ab55a7-5825-4f46-b077-e5b2f0d44885",
   "metadata": {
    "tags": []
   },
   "outputs": [],
   "source": [
    "# Comparison Tmin\n",
    "fig = plt.figure(figsize=(5,5), dpi=100)\n",
    "plt.plot(yr_axis, terra_sub['tmin(degC)'], 'b-')\n",
    "plt.plot(yr_axis, tmin_era-273.16, 'r-')\n",
    "plt.legend(['TerraClimate', 'ERA5_bias_corrected'], fontsize = 14)\n",
    "plt.ylim([-15, 30])\n",
    "plt.ylabel('T min (deg c)')"
   ]
  },
  {
   "cell_type": "code",
   "execution_count": null,
   "id": "c81ab4f5-079c-4b8c-9f42-f1688f2b27f6",
   "metadata": {
    "tags": []
   },
   "outputs": [],
   "source": [
    "# Comparison wind speed\n",
    "fig = plt.figure(figsize=(5,5), dpi=100)\n",
    "plt.plot(yr_axis, terra_sub['ws(mps)'], 'b-')\n",
    "plt.plot(yr_axis, wmean_era, 'r-')\n",
    "plt.legend(['TerraClimate', 'ERA5_bias_corrected'], fontsize = 14)\n",
    "#plt.ylim([-15, 30])\n",
    "plt.ylabel('Wind speed (mps)')"
   ]
  },
  {
   "cell_type": "markdown",
   "id": "b8b559f7-6048-409f-ad13-36fa50b12a07",
   "metadata": {},
   "source": [
    "### Relative humidity\n",
    "# Daymet data is daily so convert ERA5 to daily values"
   ]
  },
  {
   "cell_type": "code",
   "execution_count": null,
   "id": "d2d5715a-837d-4778-a8ef-6bbebc40292c",
   "metadata": {
    "tags": []
   },
   "outputs": [],
   "source": [
    "yrbeg = 1979\n",
    "yrend = 1985\n",
    "nlen = 365 * (yrend - yrbeg)\n",
    "\n",
    "ea_era_daily = np.zeros((nlen))\n",
    "\n",
    "mlen = [31, 28, 31, 30, 31, 30, 31, 31, 30, 31, 30, 31]\n",
    "jday_beg = [0, 31, 59, 90, 120, 151, 181, 212, 243, 273, 304, 334]\n",
    "\n",
    "\n",
    "for i in np.arange(yrbeg,yrend):\n",
    "    print(i)\n",
    "    for j in np.arange(1,13):\n",
    "        \n",
    "        era = '/pscratch/sd/j/jneedham/fates-mrv-runs/climate-forcing/PA/ERA5/corr/{}-{:02d}.nc'.format(i, j)\n",
    "        era = xr.open_dataset(era)\n",
    "        \n",
    "        tbot_era = era['TBOT']\n",
    "        rh_era = era['RH']\n",
    "        \n",
    "        pbeg = (i-yrbeg)*365 + jday_beg[j-1]\n",
    "        pend = pbeg + mlen[j-1]\n",
    "        \n",
    "        \n",
    "        tair = tbot_era - 273.16\n",
    "        es_era = a1 + tair * (a2 + tair * (a3 + tair * (a4 + tair * (a5 + tair * (a6 + tair * a7)))))\n",
    "        ea_era = es_era * rh_era\n",
    "        \n",
    "        tmp = np.squeeze(ea_era.resample(time='1D').mean().values)\n",
    "        ea_era_daily[pbeg:pend] = tmp\n",
    "        \n",
    "print(len(ea_era_daily))       "
   ]
  },
  {
   "cell_type": "code",
   "execution_count": null,
   "id": "94a7e004-5a07-4433-b932-04a3362398c8",
   "metadata": {},
   "outputs": [],
   "source": [
    "print(yrs)\n",
    "\n",
    "fp = '/pscratch/sd/j/jneedham/fates-mrv-runs/climate-forcing/DayMet/11752_lat_40.9386032_lon_-76.2190275_2024-09-26_193434_formatted.csv'\n",
    "df_daymet = pd.read_csv(fp)\n",
    "df_daymet_yr = df_daymet[df_daymet['year'].isin(yrs)]\n",
    "ea_daymet = np.squeeze(df_daymet_yr['vp (Pa)'].values)"
   ]
  },
  {
   "cell_type": "code",
   "execution_count": null,
   "id": "0f3905d1-7eff-4e05-83ed-4e6ff489eb2c",
   "metadata": {},
   "outputs": [],
   "source": [
    "# Comparison EA \n",
    "xax = np.arange(0,len(ea_era_daily),1)\n",
    "fig = plt.figure(figsize=(5,5), dpi=100)\n",
    "plt.plot(xax[365: ], ea_daymet, 'b-', label = 'DayMet')\n",
    "plt.plot(xax, ea_era_daily, 'r-', label = 'ERA5')\n",
    "\n",
    "plt.legend(fontsize = 14)\n",
    "#plt.ylim([-15, 30])\n",
    "plt.ylabel('Vapour pressure')"
   ]
  },
  {
   "cell_type": "code",
   "execution_count": null,
   "id": "b526faa4-7b88-4677-a788-3a05d3026dbc",
   "metadata": {},
   "outputs": [],
   "source": []
  }
 ],
 "metadata": {
  "kernelspec": {
   "display_name": "MyEnv",
   "language": "python",
   "name": "myenv"
  },
  "language_info": {
   "codemirror_mode": {
    "name": "ipython",
    "version": 3
   },
   "file_extension": ".py",
   "mimetype": "text/x-python",
   "name": "python",
   "nbconvert_exporter": "python",
   "pygments_lexer": "ipython3",
   "version": "3.9.16"
  }
 },
 "nbformat": 4,
 "nbformat_minor": 5
}
